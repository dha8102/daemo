{
  "nbformat": 4,
  "nbformat_minor": 0,
  "metadata": {
    "colab": {
      "provenance": []
    },
    "kernelspec": {
      "name": "python3",
      "display_name": "Python 3"
    },
    "language_info": {
      "name": "python"
    }
  },
  "cells": [
    {
      "cell_type": "markdown",
      "metadata": {
        "id": "JOmR5YCYTqHW"
      },
      "source": [
        "## Dictionary 선언"
      ]
    },
    {
      "cell_type": "code",
      "metadata": {
        "colab": {
          "base_uri": "https://localhost:8080/"
        },
        "outputId": "80d88cac-4bdf-4d16-913f-d62897d2e402",
        "id": "HrUZ68PITqHX"
      },
      "source": [
        "dic = {\n",
        "    1: \"one\",\n",
        "    \"A\": [\"data\", \"science\"],\n",
        "    \"숫자\": 1234,\n",
        "}\n",
        "print(type(dic))\n",
        "print(dic)"
      ],
      "execution_count": null,
      "outputs": [
        {
          "output_type": "stream",
          "name": "stdout",
          "text": [
            "<class 'dict'>\n",
            "{1: 'one', 'A': ['data', 'science'], '숫자': 1234}\n"
          ]
        }
      ]
    },
    {
      "cell_type": "markdown",
      "metadata": {
        "id": "F7WQ3UhvAJ9Q"
      },
      "source": [
        "## 딕셔너리 데이터 수정"
      ]
    },
    {
      "cell_type": "code",
      "metadata": {
        "colab": {
          "base_uri": "https://localhost:8080/"
        },
        "id": "IC3iHrzDAQjN",
        "outputId": "a337471f-f1e3-426d-f8a7-2c33b62312fd"
      },
      "source": [
        "dic = {\n",
        "    1: \"one\",\n",
        "    \"A\": [\"data\", \"science\"],\n",
        "    \"숫자\": 1234,\n",
        "}\n",
        "print(dic[\"숫자\"])\n",
        "dic[1] = \"하나\"\n",
        "dic[\"A\"] = \"알파벳\"\n",
        "print(dic)"
      ],
      "execution_count": null,
      "outputs": [
        {
          "output_type": "stream",
          "name": "stdout",
          "text": [
            "1234\n",
            "{1: '하나', 'A': '알파벳', '숫자': 1234}\n"
          ]
        }
      ]
    },
    {
      "cell_type": "markdown",
      "metadata": {
        "id": "tlvZrLhrAXbk"
      },
      "source": [
        "## 딕셔너리 데이터 삭제"
      ]
    },
    {
      "cell_type": "code",
      "metadata": {
        "colab": {
          "base_uri": "https://localhost:8080/"
        },
        "id": "o0tuLhX-AZ1Q",
        "outputId": "45d78928-d31c-4d4f-a65e-97add42ff1df"
      },
      "source": [
        "dic = {\n",
        "    1:\"one\",\n",
        "    2:\"two\",\n",
        "}\n",
        "print(dic)\n",
        "del dic[1]\n",
        "print(dic)"
      ],
      "execution_count": null,
      "outputs": [
        {
          "output_type": "stream",
          "name": "stdout",
          "text": [
            "{1: 'one', 2: 'two'}\n",
            "{2: 'two'}\n"
          ]
        }
      ]
    },
    {
      "cell_type": "markdown",
      "metadata": {
        "id": "3Q5bjXJcAcq-"
      },
      "source": [
        "## 딕셔너리 메서드-1"
      ]
    },
    {
      "cell_type": "code",
      "metadata": {
        "colab": {
          "base_uri": "https://localhost:8080/"
        },
        "id": "TkRp5l3fAhmg",
        "outputId": "ffcb3752-0bce-4d33-a994-9c736d45f672"
      },
      "source": [
        "dic = {\n",
        "    1: \"one\",\n",
        "    \"A\": [\"deep\", \"learning\"],\n",
        "    \"숫자\": 1234,\n",
        "}\n",
        "print(dic.keys())\n",
        "print(dic.values())\n",
        "print(dic.items())\n",
        "dic.clear()\n",
        "print(dic)"
      ],
      "execution_count": null,
      "outputs": [
        {
          "output_type": "stream",
          "name": "stdout",
          "text": [
            "dict_keys([1, 'A', '숫자'])\n",
            "dict_values(['one', ['deep', 'learning'], 1234])\n",
            "dict_items([(1, 'one'), ('A', ['deep', 'learning']), ('숫자', 1234)])\n",
            "{}\n"
          ]
        }
      ]
    },
    {
      "cell_type": "markdown",
      "metadata": {
        "id": "vY9gChaJAnpE"
      },
      "source": [
        "## 딕셔너리 메서드-2"
      ]
    },
    {
      "cell_type": "code",
      "metadata": {
        "colab": {
          "base_uri": "https://localhost:8080/"
        },
        "id": "ER3nC028AtO3",
        "outputId": "8ad67702-00d7-44f3-fda6-ee58774e5608"
      },
      "source": [
        "dic = {\n",
        "    1: \"one\",\n",
        "    \"A\": [\"deep\", \"learning\"],\n",
        "    \"숫자\": 1234,\n",
        "}\n",
        "dic2 = dic\n",
        "dic3 = dic.copy()\n",
        "dic[1] = \"하나\"\n",
        "print(dic)\n",
        "print(dic2)\n",
        "print(dic3)"
      ],
      "execution_count": null,
      "outputs": [
        {
          "output_type": "stream",
          "name": "stdout",
          "text": [
            "{1: '하나', 'A': ['deep', 'learning'], '숫자': 1234}\n",
            "{1: '하나', 'A': ['deep', 'learning'], '숫자': 1234}\n",
            "{1: 'one', 'A': ['deep', 'learning'], '숫자': 1234}\n"
          ]
        }
      ]
    },
    {
      "cell_type": "markdown",
      "source": [
        "## 딕셔너리 정렬"
      ],
      "metadata": {
        "id": "RF6nGarlTMcQ"
      }
    },
    {
      "cell_type": "code",
      "source": [
        "a = {'A':1,'D':4,'C':3,'B':2}\n",
        "sdict = sorted(a.items())\n",
        "print(sdict)"
      ],
      "metadata": {
        "colab": {
          "base_uri": "https://localhost:8080/"
        },
        "id": "3NM5oYbYTNig",
        "outputId": "df6d261c-f3cf-4dbb-f022-45b3b94cd4f5"
      },
      "execution_count": null,
      "outputs": [
        {
          "output_type": "stream",
          "name": "stdout",
          "text": [
            "[('A', 1), ('B', 2), ('C', 3), ('D', 4)]\n"
          ]
        }
      ]
    },
    {
      "cell_type": "markdown",
      "metadata": {
        "id": "IHSEuRR0AvUq"
      },
      "source": [
        "## 집합의 선언"
      ]
    },
    {
      "cell_type": "code",
      "metadata": {
        "colab": {
          "base_uri": "https://localhost:8080/"
        },
        "id": "1_GlxbsPA0n6",
        "outputId": "9a12e82a-9249-4beb-dbf8-81ea07dbe4ca"
      },
      "source": [
        "ls = [1, 2, 3, 4, 5, 1, 2, 3]\n",
        "s = set(ls)\n",
        "print(type(s), s)"
      ],
      "execution_count": null,
      "outputs": [
        {
          "output_type": "stream",
          "name": "stdout",
          "text": [
            "<class 'set'> {1, 2, 3, 4, 5}\n"
          ]
        }
      ]
    },
    {
      "cell_type": "markdown",
      "metadata": {
        "id": "LYpapNTSA2rc"
      },
      "source": [
        "## 교집합 (Intersection)"
      ]
    },
    {
      "cell_type": "code",
      "metadata": {
        "colab": {
          "base_uri": "https://localhost:8080/"
        },
        "id": "3Ysy0KfIA6pO",
        "outputId": "e72e68b4-0144-4dbb-db15-780bb3b6fe63"
      },
      "source": [
        "s1 = set([1, 2, 3, 4])\n",
        "s2 = set([3, 4, 5, 6])\n",
        "print(s1 & s2)\n",
        "print(s1.intersection(s2))"
      ],
      "execution_count": null,
      "outputs": [
        {
          "output_type": "stream",
          "name": "stdout",
          "text": [
            "{3, 4}\n",
            "{3, 4}\n"
          ]
        }
      ]
    },
    {
      "cell_type": "markdown",
      "metadata": {
        "id": "rDa-Q8jHA8jc"
      },
      "source": [
        "## 합집합 (Union)"
      ]
    },
    {
      "cell_type": "code",
      "metadata": {
        "colab": {
          "base_uri": "https://localhost:8080/"
        },
        "id": "nfBr55FgA_Lp",
        "outputId": "d0ae7a89-af2b-42b6-87dd-6889f7718dac"
      },
      "source": [
        "s1 = set([1, 2, 3, 4])\n",
        "s2 = set([3, 4, 5, 6])\n",
        "print(s1 | s2)\n",
        "print(s1.union(s2))"
      ],
      "execution_count": null,
      "outputs": [
        {
          "output_type": "stream",
          "name": "stdout",
          "text": [
            "{1, 2, 3, 4, 5, 6}\n",
            "{1, 2, 3, 4, 5, 6}\n"
          ]
        }
      ]
    },
    {
      "cell_type": "markdown",
      "metadata": {
        "id": "0yJ9BOI1BA7d"
      },
      "source": [
        "## 차집합 (Difference)"
      ]
    },
    {
      "cell_type": "code",
      "metadata": {
        "colab": {
          "base_uri": "https://localhost:8080/"
        },
        "id": "LbJanaXNBFQk",
        "outputId": "ea4402db-09c8-491d-fa6d-08d1c0ab0ab8"
      },
      "source": [
        "s1 = set([1, 2, 3, 4])\n",
        "s2 = set([3, 4, 5, 6])\n",
        "print(s1 - s2)\n",
        "print(s1.difference(s2))"
      ],
      "execution_count": null,
      "outputs": [
        {
          "output_type": "stream",
          "name": "stdout",
          "text": [
            "{1, 2}\n",
            "{1, 2}\n"
          ]
        }
      ]
    },
    {
      "cell_type": "markdown",
      "metadata": {
        "id": "NpuvdEENBIc3"
      },
      "source": [
        "## 집합의 형변환"
      ]
    },
    {
      "cell_type": "code",
      "metadata": {
        "colab": {
          "base_uri": "https://localhost:8080/"
        },
        "id": "xGuCJrK8BLJQ",
        "outputId": "e275ffb9-4154-4551-ec41-17f584b4c8b7"
      },
      "source": [
        "ls = [1, 2, 3, 4, 5, 1, 2, 3]\n",
        "s = set(ls)\n",
        "s = list(s)\n",
        "s[4] = 10\n",
        "s = set(s)\n",
        "print(s)"
      ],
      "execution_count": null,
      "outputs": [
        {
          "output_type": "stream",
          "name": "stdout",
          "text": [
            "{1, 2, 3, 4, 10}\n"
          ]
        }
      ]
    }
  ]
}