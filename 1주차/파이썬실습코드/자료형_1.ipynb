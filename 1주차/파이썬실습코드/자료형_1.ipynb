{
  "nbformat": 4,
  "nbformat_minor": 0,
  "metadata": {
    "colab": {
      "provenance": []
    },
    "kernelspec": {
      "name": "python3",
      "display_name": "Python 3"
    },
    "language_info": {
      "name": "python"
    }
  },
  "cells": [
    {
      "cell_type": "code",
      "execution_count": null,
      "metadata": {
        "id": "_lr2r6n7lV1f"
      },
      "outputs": [],
      "source": []
    },
    {
      "cell_type": "markdown",
      "metadata": {
        "id": "NMVhjL7xPPRq"
      },
      "source": [
        "## int 선언"
      ]
    },
    {
      "cell_type": "code",
      "metadata": {
        "id": "qq8hmA9gbqMS",
        "colab": {
          "base_uri": "https://localhost:8080/"
        },
        "outputId": "2311c95b-a166-4a6c-bb8d-b157d096fd01"
      },
      "source": [
        "a = 30\n",
        "b = 2\n",
        "c = 0\n",
        "d = -12\n",
        "print(a, b, c, d)\n",
        "print(type(a))"
      ],
      "execution_count": null,
      "outputs": [
        {
          "output_type": "stream",
          "name": "stdout",
          "text": [
            "30 2 0 -12\n",
            "<class 'int'>\n"
          ]
        }
      ]
    },
    {
      "cell_type": "markdown",
      "metadata": {
        "id": "IRrTNglu9X7g"
      },
      "source": [
        "## float 선언"
      ]
    },
    {
      "cell_type": "code",
      "metadata": {
        "colab": {
          "base_uri": "https://localhost:8080/"
        },
        "id": "e5dSo6ol9acE",
        "outputId": "cf62d265-21e4-483c-86cc-dc4666ed7c88"
      },
      "source": [
        "a = 3.4\n",
        "b = -2.5\n",
        "c = 3.5e-3\n",
        "d = 2e+3\n",
        "print(a, b, c, d)\n",
        "print(type(a))"
      ],
      "execution_count": null,
      "outputs": [
        {
          "output_type": "stream",
          "name": "stdout",
          "text": [
            "3.4 -2.5 0.0035 2000.0\n",
            "<class 'float'>\n"
          ]
        }
      ]
    },
    {
      "cell_type": "markdown",
      "metadata": {
        "id": "zvkJuWt29d_Y"
      },
      "source": [
        "## float to int"
      ]
    },
    {
      "cell_type": "code",
      "metadata": {
        "colab": {
          "base_uri": "https://localhost:8080/"
        },
        "id": "b7HC2Skn9gwK",
        "outputId": "449d3dcb-c3c6-4c1d-d947-916b901b358e"
      },
      "source": [
        "a = 3.7\n",
        "b = int(a)\n",
        "print(a, b)"
      ],
      "execution_count": null,
      "outputs": [
        {
          "output_type": "stream",
          "name": "stdout",
          "text": [
            "3.7 3\n"
          ]
        }
      ]
    },
    {
      "cell_type": "markdown",
      "metadata": {
        "id": "2V27Ypy79i8e"
      },
      "source": [
        "## int to float"
      ]
    },
    {
      "cell_type": "code",
      "metadata": {
        "colab": {
          "base_uri": "https://localhost:8080/"
        },
        "id": "8K6osQQy9kib",
        "outputId": "6da08016-c783-42d3-e98e-155175c624e0"
      },
      "source": [
        "a = 3\n",
        "b = float(a)\n",
        "print(a, b)"
      ],
      "execution_count": null,
      "outputs": [
        {
          "output_type": "stream",
          "name": "stdout",
          "text": [
            "3 3.0\n"
          ]
        }
      ]
    },
    {
      "cell_type": "markdown",
      "metadata": {
        "id": "ULaCzNbM9pwC"
      },
      "source": [
        "## complex 선언"
      ]
    },
    {
      "cell_type": "code",
      "metadata": {
        "colab": {
          "base_uri": "https://localhost:8080/"
        },
        "id": "SCxMxvmt9sqI",
        "outputId": "20bbbece-35ee-4ecd-df60-469586ad28e9"
      },
      "source": [
        "a = 2 + 3j\n",
        "b = complex(3, -4)\n",
        "print(a, b)"
      ],
      "execution_count": null,
      "outputs": [
        {
          "output_type": "stream",
          "name": "stdout",
          "text": [
            "(2+3j) (3-4j)\n"
          ]
        }
      ]
    },
    {
      "cell_type": "markdown",
      "metadata": {
        "id": "w-WBApIY9umx"
      },
      "source": [
        "## 실수부, 허수부"
      ]
    },
    {
      "cell_type": "code",
      "metadata": {
        "colab": {
          "base_uri": "https://localhost:8080/"
        },
        "id": "lgFK5EpE9wok",
        "outputId": "938eda74-f708-495d-c8fa-7dc1aeb8dfd1"
      },
      "source": [
        "a = 2 + 3j\n",
        "b = complex(3, -4)\n",
        "print(a.real, a.imag,b.real, b.imag)"
      ],
      "execution_count": null,
      "outputs": [
        {
          "output_type": "stream",
          "name": "stdout",
          "text": [
            "2.0 3.0 3.0 -4.0\n"
          ]
        }
      ]
    },
    {
      "cell_type": "markdown",
      "metadata": {
        "id": "N2fKrUIr9yI4"
      },
      "source": [
        "## 복소수 연산"
      ]
    },
    {
      "cell_type": "code",
      "metadata": {
        "colab": {
          "base_uri": "https://localhost:8080/"
        },
        "id": "AYGvVcTj91G_",
        "outputId": "30a64edb-a769-4e5d-99e9-463d7f7e1b7a"
      },
      "source": [
        "a = 2 + 3j\n",
        "b = complex(3, -4)\n",
        "print(a + b, a - b)\n",
        "print(a * b, a / b)"
      ],
      "execution_count": null,
      "outputs": [
        {
          "output_type": "stream",
          "name": "stdout",
          "text": [
            "(5-1j) (-1+7j)\n",
            "(18+1j) (-0.24+0.68j)\n"
          ]
        }
      ]
    },
    {
      "cell_type": "markdown",
      "metadata": {
        "id": "Lt9S84ci93Fp"
      },
      "source": [
        "## 켤레복소수와 크기"
      ]
    },
    {
      "cell_type": "code",
      "metadata": {
        "colab": {
          "base_uri": "https://localhost:8080/"
        },
        "id": "GDAOWoOy95Vv",
        "outputId": "56219430-0112-400d-a672-97e97bee1e56"
      },
      "source": [
        "a = 2 + 3j\n",
        "b = complex(3, -4)\n",
        "print(a.conjugate(), b.conjugate())\n",
        "print(abs(a), abs(b))"
      ],
      "execution_count": null,
      "outputs": [
        {
          "output_type": "stream",
          "name": "stdout",
          "text": [
            "(2-3j) (3+4j)\n",
            "3.605551275463989 5.0\n"
          ]
        }
      ]
    },
    {
      "cell_type": "markdown",
      "metadata": {
        "id": "YeL1UiXg97AL"
      },
      "source": [
        "## 숫자형 연산자"
      ]
    },
    {
      "cell_type": "code",
      "metadata": {
        "colab": {
          "base_uri": "https://localhost:8080/"
        },
        "id": "hNKXKZxQ-Hq0",
        "outputId": "43761a48-c133-453b-fff8-c2791b8c0e27"
      },
      "source": [
        "a = 8\n",
        "b = 3\n",
        "print(a + b, a - b)\n",
        "print(a * b, a / b)\n",
        "print(a ** b)\n",
        "print(a % b)\n",
        "print(a // b)"
      ],
      "execution_count": null,
      "outputs": [
        {
          "output_type": "stream",
          "name": "stdout",
          "text": [
            "11 5\n",
            "24 2.6666666666666665\n",
            "512\n",
            "2\n",
            "2\n"
          ]
        }
      ]
    },
    {
      "cell_type": "markdown",
      "metadata": {
        "id": "EByFTWUh-JR1"
      },
      "source": [
        "## string 선언"
      ]
    },
    {
      "cell_type": "code",
      "metadata": {
        "colab": {
          "base_uri": "https://localhost:8080/"
        },
        "id": "UULHcGZJ-MU3",
        "outputId": "edd52d66-44b7-429b-c611-2a2d1c847b48"
      },
      "source": [
        "a = \"딥앤하이러닝\"\n",
        "b = \"딥앤하이\\'러닝\"\n",
        "c = '딥앤하이\"러닝'\n",
        "d = \"딥앤하이'러닝\"\n",
        "print(a, b)\n",
        "print(c, d)\n",
        "print(type(a))"
      ],
      "execution_count": null,
      "outputs": [
        {
          "output_type": "stream",
          "name": "stdout",
          "text": [
            "딥앤하이러닝 딥앤하이'러닝\n",
            "딥앤하이\"러닝 딥앤하이'러닝\n",
            "<class 'str'>\n"
          ]
        }
      ]
    },
    {
      "cell_type": "markdown",
      "metadata": {
        "id": "wtXm9rUk-N-I"
      },
      "source": [
        "## multiline"
      ]
    },
    {
      "cell_type": "code",
      "metadata": {
        "colab": {
          "base_uri": "https://localhost:8080/"
        },
        "id": "FyFkvACa-S8d",
        "outputId": "2c15671d-effe-45b5-de3d-1b7394d835a3"
      },
      "source": [
        "multiline = \"\"\"\n",
        "Life is too short\n",
        "You need python\n",
        "\"\"\"\n",
        "print(multiline)"
      ],
      "execution_count": null,
      "outputs": [
        {
          "output_type": "stream",
          "name": "stdout",
          "text": [
            "\n",
            "Life is too short\n",
            "You need python\n",
            "\n"
          ]
        }
      ]
    },
    {
      "cell_type": "markdown",
      "metadata": {
        "id": "7Jx3NYOo-UZw"
      },
      "source": [
        "## multiline (+)"
      ]
    },
    {
      "cell_type": "code",
      "metadata": {
        "colab": {
          "base_uri": "https://localhost:8080/"
        },
        "id": "ZatcO5qc-YDc",
        "outputId": "e8791080-1583-41ce-9db9-74fbd985e3a2"
      },
      "source": [
        "print(1 + 1)\n",
        "print('a' + 'b')"
      ],
      "execution_count": null,
      "outputs": [
        {
          "output_type": "stream",
          "name": "stdout",
          "text": [
            "2\n",
            "ab\n"
          ]
        }
      ]
    },
    {
      "cell_type": "markdown",
      "metadata": {
        "id": "8Ze1Dfxe-ZoT"
      },
      "source": [
        "## multiline (*)"
      ]
    },
    {
      "cell_type": "code",
      "metadata": {
        "colab": {
          "base_uri": "https://localhost:8080/"
        },
        "id": "rGTqf3AU-dzo",
        "outputId": "23d52be0-858b-4812-b713-5b71183de371"
      },
      "source": [
        "a = \"Deep \" * 4\n",
        "print(a)"
      ],
      "execution_count": null,
      "outputs": [
        {
          "output_type": "stream",
          "name": "stdout",
          "text": [
            "Deep Deep Deep Deep \n"
          ]
        }
      ]
    },
    {
      "cell_type": "markdown",
      "metadata": {
        "id": "obIS4EvA-fcM"
      },
      "source": [
        "## offset"
      ]
    },
    {
      "cell_type": "code",
      "metadata": {
        "colab": {
          "base_uri": "https://localhost:8080/"
        },
        "id": "GAjNYPQB-hjL",
        "outputId": "e9cad9de-11fa-40b8-9956-e44bfe5a147b"
      },
      "source": [
        "a = \"abcdefghijk\"\n",
        "print(a[1:3], a[:5], a[-3:], a[:], a[::2])"
      ],
      "execution_count": null,
      "outputs": [
        {
          "output_type": "stream",
          "name": "stdout",
          "text": [
            "bc abcde ijk abcdefghijk acegik\n"
          ]
        }
      ]
    },
    {
      "cell_type": "markdown",
      "metadata": {
        "id": "IfpqBi69-jTo"
      },
      "source": [
        "## offset 활용"
      ]
    },
    {
      "cell_type": "code",
      "metadata": {
        "colab": {
          "base_uri": "https://localhost:8080/"
        },
        "id": "gAmIKXoo-lmG",
        "outputId": "f8a16fb6-b2bb-4b12-8807-fcfc38c5bccd"
      },
      "source": [
        "teacher = \"Kim's \"\n",
        "title = \"Deep&High Learning\"\n",
        "print(teacher + title)\n",
        "print(\"=\" * 30)\n",
        "print(len(title))\n",
        "print(title[0])\n",
        "print(title[-1])\n",
        "print(title[:2])\n",
        "print(title[3:])"
      ],
      "execution_count": null,
      "outputs": [
        {
          "output_type": "stream",
          "name": "stdout",
          "text": [
            "Kim's Deep&High Learning\n",
            "==============================\n",
            "18\n",
            "D\n",
            "g\n",
            "De\n",
            "p&High Learning\n"
          ]
        }
      ]
    },
    {
      "cell_type": "markdown",
      "metadata": {
        "id": "mOJltlJ4-nlM"
      },
      "source": [
        "## 메서드-1"
      ]
    },
    {
      "cell_type": "code",
      "metadata": {
        "colab": {
          "base_uri": "https://localhost:8080/"
        },
        "id": "pEb28Ptx-qRX",
        "outputId": "225cf59f-dd8d-4a1f-e07f-35ec01351a44"
      },
      "source": [
        "a = \"apple\"\n",
        "print(a.count(\"p\"))\n",
        "print(a.find(\"p\"))\n",
        "print(a.index(\"p\"))\n",
        "print(\".\".join(a))\n",
        "a = a.upper()\n",
        "print(a)\n",
        "print(a.lower())"
      ],
      "execution_count": null,
      "outputs": [
        {
          "output_type": "stream",
          "name": "stdout",
          "text": [
            "2\n",
            "1\n",
            "1\n",
            "a.p.p.l.e\n",
            "APPLE\n",
            "apple\n"
          ]
        }
      ]
    },
    {
      "cell_type": "markdown",
      "metadata": {
        "id": "-h9QajlX-sDU"
      },
      "source": [
        "## 메서드-2"
      ]
    },
    {
      "cell_type": "code",
      "metadata": {
        "colab": {
          "base_uri": "https://localhost:8080/"
        },
        "id": "6lmaMY_w-uMb",
        "outputId": "f3f95964-947b-45a9-8d1e-b19a8cc59f15"
      },
      "source": [
        "b = \" How can I improve my coding skills? \"\n",
        "print(b)\n",
        "b = b.strip()\n",
        "print(b)\n",
        "b = b.replace(\"?\", \"\")\n",
        "print(b)\n",
        "word_list = b.split(\" \")\n",
        "print(word_list)"
      ],
      "execution_count": null,
      "outputs": [
        {
          "output_type": "stream",
          "name": "stdout",
          "text": [
            " How can I improve my coding skills? \n",
            "How can I improve my coding skills?\n",
            "How can I improve my coding skills\n",
            "['How', 'can', 'I', 'improve', 'my', 'coding', 'skills']\n"
          ]
        }
      ]
    }
  ]
}