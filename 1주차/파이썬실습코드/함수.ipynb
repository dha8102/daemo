{
  "nbformat": 4,
  "nbformat_minor": 0,
  "metadata": {
    "colab": {
      "provenance": []
    },
    "kernelspec": {
      "name": "python3",
      "display_name": "Python 3"
    },
    "language_info": {
      "name": "python"
    }
  },
  "cells": [
    {
      "cell_type": "markdown",
      "metadata": {
        "id": "oSq96Hq4_lQa"
      },
      "source": [
        "## 함수의 정의"
      ]
    },
    {
      "cell_type": "code",
      "metadata": {
        "colab": {
          "base_uri": "https://localhost:8080/"
        },
        "id": "tMRb8fXP_nNf",
        "outputId": "58e79acc-4294-45dd-869b-12c575d4e3b6"
      },
      "source": [
        "def data_science():\n",
        "\tprint(\"python\")\n",
        "data_science()"
      ],
      "execution_count": null,
      "outputs": [
        {
          "output_type": "stream",
          "name": "stdout",
          "text": [
            "python\n"
          ]
        }
      ]
    },
    {
      "cell_type": "markdown",
      "metadata": {
        "id": "F7WQ3UhvAJ9Q"
      },
      "source": [
        "## 함수 선언 및 실행"
      ]
    },
    {
      "cell_type": "code",
      "metadata": {
        "colab": {
          "base_uri": "https://localhost:8080/"
        },
        "id": "IC3iHrzDAQjN",
        "outputId": "0f53a7c7-ae3e-464b-c38a-4460453ab498"
      },
      "source": [
        "def data_science(print_sentence):\n",
        "    print(print_sentence)\n",
        "string = \"매개변수로 전달된 문자열 출력\"\n",
        "data_science(string)"
      ],
      "execution_count": null,
      "outputs": [
        {
          "output_type": "stream",
          "name": "stdout",
          "text": [
            "매개변수로 전달된 문자열 출력\n"
          ]
        }
      ]
    },
    {
      "cell_type": "code",
      "metadata": {
        "colab": {
          "base_uri": "https://localhost:8080/"
        },
        "id": "o0tuLhX-AZ1Q",
        "outputId": "9ae0bccd-ed32-4c8a-84ee-68145ac5e331"
      },
      "source": [
        "def minus(num1=3, num2=2):\n",
        "    print(num1-num2)\n",
        "minus(2)"
      ],
      "execution_count": null,
      "outputs": [
        {
          "output_type": "stream",
          "name": "stdout",
          "text": [
            "0\n"
          ]
        }
      ]
    },
    {
      "cell_type": "markdown",
      "metadata": {
        "id": "3Q5bjXJcAcq-"
      },
      "source": [
        "## 디폴트 파라미터\n"
      ]
    },
    {
      "cell_type": "code",
      "metadata": {
        "colab": {
          "base_uri": "https://localhost:8080/",
          "height": 136
        },
        "id": "TkRp5l3fAhmg",
        "outputId": "70354b4c-4f83-46c5-dff6-88c6959fb151"
      },
      "source": [
        "def minus(num1=3, num2=2, num3):\n",
        "    print(num1-num2-num3)\n",
        "\n",
        "minus(5)"
      ],
      "execution_count": null,
      "outputs": [
        {
          "output_type": "error",
          "ename": "SyntaxError",
          "evalue": "ignored",
          "traceback": [
            "\u001b[0;36m  File \u001b[0;32m\"<ipython-input-5-4e76455c1a92>\"\u001b[0;36m, line \u001b[0;32m1\u001b[0m\n\u001b[0;31m    def minus(num1=3, num2=2, num3):\u001b[0m\n\u001b[0m             ^\u001b[0m\n\u001b[0;31mSyntaxError\u001b[0m\u001b[0;31m:\u001b[0m non-default argument follows default argument\n"
          ]
        }
      ]
    },
    {
      "cell_type": "code",
      "metadata": {
        "colab": {
          "base_uri": "https://localhost:8080/"
        },
        "id": "OLbQPmznT0gU",
        "outputId": "63b96481-3288-4f76-8256-c60fba7730b0"
      },
      "source": [
        "def minus(num3, num1=3, num2=2):\n",
        "    print(num1-num2-num3)\n",
        "\n",
        "minus(5)"
      ],
      "execution_count": null,
      "outputs": [
        {
          "output_type": "stream",
          "name": "stdout",
          "text": [
            "-4\n"
          ]
        }
      ]
    },
    {
      "cell_type": "markdown",
      "metadata": {
        "id": "1Der_vj-T5uR"
      },
      "source": [
        "## 키워드 아규먼트"
      ]
    },
    {
      "cell_type": "code",
      "metadata": {
        "colab": {
          "base_uri": "https://localhost:8080/"
        },
        "id": "ER3nC028AtO3",
        "outputId": "327aea80-59a8-45ce-f179-11598f30249d"
      },
      "source": [
        "def minus(num1, num2):\n",
        "    print(num1-num2)\n",
        "\n",
        "minus(2, 3)\n",
        "minus(num2=3, num1=2)"
      ],
      "execution_count": null,
      "outputs": [
        {
          "output_type": "stream",
          "name": "stdout",
          "text": [
            "-1\n",
            "-1\n"
          ]
        }
      ]
    },
    {
      "cell_type": "markdown",
      "metadata": {
        "id": "IHSEuRR0AvUq"
      },
      "source": [
        "## return"
      ]
    },
    {
      "cell_type": "code",
      "metadata": {
        "colab": {
          "base_uri": "https://localhost:8080/"
        },
        "id": "1_GlxbsPA0n6",
        "outputId": "e130d524-b772-41c7-d1a6-2e57ccb86875"
      },
      "source": [
        "# 리턴이 없는 함수\n",
        "def no_return():\n",
        "    a = 1 + 2\n",
        "result = no_return()\n",
        "print(result)"
      ],
      "execution_count": null,
      "outputs": [
        {
          "output_type": "stream",
          "name": "stdout",
          "text": [
            "None\n"
          ]
        }
      ]
    },
    {
      "cell_type": "code",
      "metadata": {
        "colab": {
          "base_uri": "https://localhost:8080/"
        },
        "id": "VrhnlMgHUU9u",
        "outputId": "73c54c5a-2cf4-49a9-98b3-0973f8bd3e47"
      },
      "source": [
        "# 리턴이 있는 함수\n",
        "def plus(a, b):\n",
        "    return a + b\n",
        "result = plus(1, 2)\n",
        "print(result)"
      ],
      "execution_count": null,
      "outputs": [
        {
          "output_type": "stream",
          "name": "stdout",
          "text": [
            "3\n"
          ]
        }
      ]
    },
    {
      "cell_type": "markdown",
      "metadata": {
        "id": "LYpapNTSA2rc"
      },
      "source": [
        "## *args"
      ]
    },
    {
      "cell_type": "code",
      "metadata": {
        "colab": {
          "base_uri": "https://localhost:8080/"
        },
        "id": "3Ysy0KfIA6pO",
        "outputId": "3caa85b2-20d2-4cf6-de77-7437e21a67be"
      },
      "source": [
        "def print_args(*args):\n",
        "    print(args)\n",
        "    print(args[4])\n",
        "    print(args[5][1])\n",
        "\n",
        "print_args(1, 2, 3, \"deep\", \"learning\", [\"artificial\", \"intelligence\"])"
      ],
      "execution_count": null,
      "outputs": [
        {
          "output_type": "stream",
          "name": "stdout",
          "text": [
            "(1, 2, 3, 'deep', 'learning', ['artificial', 'intelligence'])\n",
            "learning\n",
            "intelligence\n"
          ]
        }
      ]
    },
    {
      "cell_type": "code",
      "metadata": {
        "colab": {
          "base_uri": "https://localhost:8080/"
        },
        "id": "mQH7MOQnUa5U",
        "outputId": "c4c38ad9-dcd3-46f8-bab1-9b2092b5064f"
      },
      "source": [
        "def avg_func(*args):\n",
        "    return sum(args) / len(args)\n",
        "a = avg_func(100, 70, 80, 99, 85, 60, 80)\n",
        "print(\"avg : {}\".format(round(a, 2)))"
      ],
      "execution_count": null,
      "outputs": [
        {
          "output_type": "stream",
          "name": "stdout",
          "text": [
            "avg : 82.0\n"
          ]
        }
      ]
    },
    {
      "cell_type": "markdown",
      "metadata": {
        "id": "rDa-Q8jHA8jc"
      },
      "source": [
        "## **kwargs"
      ]
    },
    {
      "cell_type": "code",
      "metadata": {
        "colab": {
          "base_uri": "https://localhost:8080/"
        },
        "id": "nfBr55FgA_Lp",
        "outputId": "f98477c3-a2a0-402e-c000-bdb9fc92c6c8"
      },
      "source": [
        "def avg_func(**kwargs):\n",
        "    print(kwargs)\n",
        "    total=0\n",
        "    count=0\n",
        "    for subject, point in kwargs.items():\n",
        "        print(subject, point)\n",
        "        total += point\n",
        "        count += 1\n",
        "    return total / count\n",
        "a = avg_func(korean=100, english=70, math=80, science=90)\n",
        "print(\"avg : {}\".format(round(a, 2)))"
      ],
      "execution_count": null,
      "outputs": [
        {
          "output_type": "stream",
          "name": "stdout",
          "text": [
            "{'korean': 100, 'english': 70, 'math': 80, 'science': 90}\n",
            "korean 100\n",
            "english 70\n",
            "math 80\n",
            "science 90\n",
            "avg : 85.0\n"
          ]
        }
      ]
    },
    {
      "cell_type": "markdown",
      "metadata": {
        "id": "0yJ9BOI1BA7d"
      },
      "source": [
        "## \\**args, ***kwargs"
      ]
    },
    {
      "cell_type": "code",
      "metadata": {
        "colab": {
          "base_uri": "https://localhost:8080/"
        },
        "id": "LbJanaXNBFQk",
        "outputId": "49bfba23-9992-4f39-8669-8e39c3eafdbf"
      },
      "source": [
        "def test_func(*args, **kwargs):\n",
        "    print(args)\n",
        "    print(kwargs)\n",
        "\n",
        "test_func(1, 2, 3, \"deepandhigh\", \"python\", korean=100, english=70, math=80)"
      ],
      "execution_count": null,
      "outputs": [
        {
          "output_type": "stream",
          "name": "stdout",
          "text": [
            "(1, 2, 3, 'deepandhigh', 'python')\n",
            "{'korean': 100, 'english': 70, 'math': 80}\n"
          ]
        }
      ]
    },
    {
      "cell_type": "markdown",
      "metadata": {
        "id": "NpuvdEENBIc3"
      },
      "source": [
        "## 전역변수"
      ]
    },
    {
      "cell_type": "code",
      "metadata": {
        "colab": {
          "base_uri": "https://localhost:8080/"
        },
        "id": "xGuCJrK8BLJQ",
        "outputId": "f5055eeb-253e-4d28-fd53-ba11502c5367"
      },
      "source": [
        "gv = 10\n",
        "def print_gv():\n",
        "    print(gv)\n",
        "\n",
        "print_gv()"
      ],
      "execution_count": null,
      "outputs": [
        {
          "output_type": "stream",
          "name": "stdout",
          "text": [
            "10\n"
          ]
        }
      ]
    },
    {
      "cell_type": "markdown",
      "metadata": {
        "id": "ARrDtKODBMzT"
      },
      "source": [
        "## 전역 / 지역 변수"
      ]
    },
    {
      "cell_type": "code",
      "metadata": {
        "colab": {
          "base_uri": "https://localhost:8080/"
        },
        "id": "pzu-ej1BBPFk",
        "outputId": "915f950c-57ba-481e-cf96-0a9457483047"
      },
      "source": [
        "gv1, gv2 = 1, 2\n",
        "def print_variable():\n",
        "    gv1 = 10\n",
        "    gv2 = 20\n",
        "    print(gv1, gv2)\n",
        "    return gv1, gv2\n",
        "\n",
        "print_variable()\n",
        "print(gv1, gv2)"
      ],
      "execution_count": null,
      "outputs": [
        {
          "output_type": "stream",
          "name": "stdout",
          "text": [
            "10 20\n",
            "1 2\n"
          ]
        }
      ]
    },
    {
      "cell_type": "markdown",
      "metadata": {
        "id": "f5429mM2BRSN"
      },
      "source": [
        "## global 변수 접근"
      ]
    },
    {
      "cell_type": "code",
      "metadata": {
        "colab": {
          "base_uri": "https://localhost:8080/"
        },
        "id": "54LJOfRpBS-G",
        "outputId": "6c1e48e9-4ff4-4d7b-ee56-af8c6dfb052a"
      },
      "source": [
        "gv=12\n",
        "def change_gv(data):\n",
        "    global gv\n",
        "    gv=data\n",
        "\n",
        "print(gv)\n",
        "change_gv(100)\n",
        "print(gv)"
      ],
      "execution_count": null,
      "outputs": [
        {
          "output_type": "stream",
          "name": "stdout",
          "text": [
            "12\n",
            "100\n"
          ]
        }
      ]
    },
    {
      "cell_type": "markdown",
      "metadata": {
        "id": "a_NTfhpUBUr-"
      },
      "source": [
        "## 일반적 함수 선언"
      ]
    },
    {
      "cell_type": "code",
      "metadata": {
        "colab": {
          "base_uri": "https://localhost:8080/"
        },
        "id": "mOh6s6NvBWx1",
        "outputId": "6c84d1a4-413b-4a83-a07a-c5bd2c160427"
      },
      "source": [
        "def sum_func(x, y):\n",
        "    return x + y\n",
        "sum_func(5, 6)\n"
      ],
      "execution_count": null,
      "outputs": [
        {
          "output_type": "execute_result",
          "data": {
            "text/plain": [
              "11"
            ]
          },
          "metadata": {},
          "execution_count": 17
        }
      ]
    },
    {
      "cell_type": "markdown",
      "metadata": {
        "id": "3Ro_h0k0U5qD"
      },
      "source": [
        "## 람다 함수 선언"
      ]
    },
    {
      "cell_type": "code",
      "metadata": {
        "colab": {
          "base_uri": "https://localhost:8080/"
        },
        "id": "4PKJuf6dU6yK",
        "outputId": "70d8cb21-4329-49fd-b76c-ebfd2df538b5"
      },
      "source": [
        "sum_func2 = lambda x, y : x + y\n",
        "sum_func2(5, 6)"
      ],
      "execution_count": null,
      "outputs": [
        {
          "output_type": "execute_result",
          "data": {
            "text/plain": [
              "11"
            ]
          },
          "metadata": {},
          "execution_count": 18
        }
      ]
    }
  ]
}