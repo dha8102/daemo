{
  "nbformat": 4,
  "nbformat_minor": 0,
  "metadata": {
    "colab": {
      "provenance": []
    },
    "kernelspec": {
      "name": "python3",
      "display_name": "Python 3"
    },
    "language_info": {
      "name": "python"
    }
  },
  "cells": [
    {
      "cell_type": "markdown",
      "metadata": {
        "id": "jFkWHMLL-v3O"
      },
      "source": [
        "## list 선언"
      ]
    },
    {
      "cell_type": "code",
      "source": [
        "a = [\"deep\", \"and\", \"high\"]\n",
        "b = [1, 2, [3, 4]]\n",
        "c = [1, \"deep\", True]\n",
        "print(type(a))\n",
        "print(a, b, c)"
      ],
      "metadata": {
        "id": "dVjPOKOmmau3"
      },
      "execution_count": null,
      "outputs": []
    },
    {
      "cell_type": "markdown",
      "metadata": {
        "id": "JPeNbOia-zaZ"
      },
      "source": [
        "## list 인덱싱"
      ]
    },
    {
      "cell_type": "code",
      "metadata": {
        "colab": {
          "base_uri": "https://localhost:8080/"
        },
        "id": "saLbEM3A-1P7",
        "outputId": "fdf23105-942a-4651-fa1d-c831bb135597"
      },
      "source": [
        "a = [\"deep\", \"and\", \"high\"]\n",
        "print(a[1], a[-1])\n",
        "a[-2] = \"pdj\"\n",
        "print(a)"
      ],
      "execution_count": null,
      "outputs": [
        {
          "output_type": "stream",
          "name": "stdout",
          "text": [
            "and high\n",
            "['deep', 'pdj', 'high']\n"
          ]
        }
      ]
    },
    {
      "cell_type": "markdown",
      "metadata": {
        "id": "WPQzsa08-3Vn"
      },
      "source": [
        "## list 슬라이싱"
      ]
    },
    {
      "cell_type": "code",
      "metadata": {
        "colab": {
          "base_uri": "https://localhost:8080/"
        },
        "id": "SCxW0o4X-55u",
        "outputId": "7743ca94-7379-49b8-ee1b-2ffd130f84fb"
      },
      "source": [
        "a = [\"deep\", \"and\", \"high\"]\n",
        "print(a[1:3])\n",
        "print(a[:])\n",
        "print(a[::-2])"
      ],
      "execution_count": null,
      "outputs": [
        {
          "output_type": "stream",
          "name": "stdout",
          "text": [
            "['and', 'high']\n",
            "['deep', 'and', 'high']\n",
            "['high', 'deep']\n"
          ]
        }
      ]
    },
    {
      "cell_type": "markdown",
      "metadata": {
        "id": "gfAYBauQ-7bR"
      },
      "source": [
        "## append()"
      ]
    },
    {
      "cell_type": "code",
      "metadata": {
        "colab": {
          "base_uri": "https://localhost:8080/"
        },
        "id": "BJQfwcxV-9u8",
        "outputId": "85bc97aa-c4f0-4c6a-c851-dd8f181ea1df"
      },
      "source": [
        "a = [\"deep\", \"and\", \"high\", \"learning\"]\n",
        "a.append(\"fighting!\")\n",
        "print(a)"
      ],
      "execution_count": null,
      "outputs": [
        {
          "output_type": "stream",
          "name": "stdout",
          "text": [
            "['deep', 'and', 'high', 'learning', 'fighting!']\n"
          ]
        }
      ]
    },
    {
      "cell_type": "markdown",
      "metadata": {
        "id": "WtJmS03p--9T"
      },
      "source": [
        "## reverse()"
      ]
    },
    {
      "cell_type": "code",
      "metadata": {
        "colab": {
          "base_uri": "https://localhost:8080/"
        },
        "id": "gs3OVEOX_A4C",
        "outputId": "a99dc055-4e74-4c0c-a137-782c31b2799b"
      },
      "source": [
        "a = [\"deep\", \"and\", \"high\", \"learning\"]\n",
        "a.reverse()\n",
        "print(a)"
      ],
      "execution_count": null,
      "outputs": [
        {
          "output_type": "stream",
          "name": "stdout",
          "text": [
            "['learning', 'high', 'and', 'deep']\n"
          ]
        }
      ]
    },
    {
      "cell_type": "markdown",
      "metadata": {
        "id": "iFwNeIUs_CeA"
      },
      "source": [
        "## sort()"
      ]
    },
    {
      "cell_type": "code",
      "metadata": {
        "colab": {
          "base_uri": "https://localhost:8080/"
        },
        "id": "BDE_72Yv_Dzs",
        "outputId": "d097b10d-3050-4a11-e918-daf17e15d5f2"
      },
      "source": [
        "a = [\"deep\", \"and\", \"high\", \"learning\"]\n",
        "a.sort()\n",
        "print(a)"
      ],
      "execution_count": null,
      "outputs": [
        {
          "output_type": "stream",
          "name": "stdout",
          "text": [
            "['and', 'deep', 'high', 'learning']\n"
          ]
        }
      ]
    },
    {
      "cell_type": "markdown",
      "metadata": {
        "id": "K6sPDWVO_FMr"
      },
      "source": [
        "## index()"
      ]
    },
    {
      "cell_type": "code",
      "metadata": {
        "colab": {
          "base_uri": "https://localhost:8080/"
        },
        "id": "ox5lXlAB_Hbm",
        "outputId": "320497c9-90c4-43d8-dc6c-b96fc656c8e8"
      },
      "source": [
        "a = [\"deep\", \"and\", \"high\", \"learning\"]\n",
        "print(a.index('high'))"
      ],
      "execution_count": null,
      "outputs": [
        {
          "output_type": "stream",
          "name": "stdout",
          "text": [
            "2\n"
          ]
        }
      ]
    },
    {
      "cell_type": "markdown",
      "metadata": {
        "id": "LpX6ghCz_I6G"
      },
      "source": [
        "## insert()"
      ]
    },
    {
      "cell_type": "code",
      "metadata": {
        "colab": {
          "base_uri": "https://localhost:8080/"
        },
        "id": "7Ke-M8Xy_OTg",
        "outputId": "50596b96-37a4-40fb-9d94-4de0aca6871c"
      },
      "source": [
        "a = [\"deep\", \"and\", \"high\", \"learning\"]\n",
        "a.insert(2, 'index1')\n",
        "a.insert(5, 'index2')\n",
        "print(a)"
      ],
      "execution_count": null,
      "outputs": [
        {
          "output_type": "stream",
          "name": "stdout",
          "text": [
            "['deep', 'and', 'index1', 'high', 'learning', 'index2']\n"
          ]
        }
      ]
    },
    {
      "cell_type": "markdown",
      "source": [
        "## pop()"
      ],
      "metadata": {
        "id": "dluYp91iQenl"
      }
    },
    {
      "cell_type": "code",
      "source": [
        "a = [\"deep\", \"and\", \"high\", \"learning\"]\n",
        "print(a.pop())"
      ],
      "metadata": {
        "colab": {
          "base_uri": "https://localhost:8080/"
        },
        "id": "SKtzf7u5QfvU",
        "outputId": "b90e3aab-c26c-4eb2-a80c-be3d4e1f5c70"
      },
      "execution_count": null,
      "outputs": [
        {
          "output_type": "stream",
          "name": "stdout",
          "text": [
            "learning\n"
          ]
        }
      ]
    },
    {
      "cell_type": "markdown",
      "metadata": {
        "id": "WRFHdX8H_QTY"
      },
      "source": [
        "## remove()"
      ]
    },
    {
      "cell_type": "code",
      "metadata": {
        "colab": {
          "base_uri": "https://localhost:8080/"
        },
        "id": "AzJryUZA_R4u",
        "outputId": "3819d55c-6b21-44ce-f736-40e2eeccdadb"
      },
      "source": [
        "a = [\"deep\", \"and\", \"high\", \"learning\"]\n",
        "a.remove('high')\n",
        "print(a)"
      ],
      "execution_count": null,
      "outputs": [
        {
          "output_type": "stream",
          "name": "stdout",
          "text": [
            "['deep', 'and', 'learning']\n"
          ]
        }
      ]
    },
    {
      "cell_type": "markdown",
      "metadata": {
        "id": "ayaH1BsP_TpL"
      },
      "source": [
        "## del"
      ]
    },
    {
      "cell_type": "code",
      "metadata": {
        "colab": {
          "base_uri": "https://localhost:8080/"
        },
        "id": "vICtCTQF_V8R",
        "outputId": "6e138323-de63-43af-8f23-96126f7ac4d4"
      },
      "source": [
        "a = [\"deep\", \"and\", \"high\", \"learning\"]\n",
        "del a[2]\n",
        "print(a)"
      ],
      "execution_count": null,
      "outputs": [
        {
          "output_type": "stream",
          "name": "stdout",
          "text": [
            "['deep', 'and', 'learning']\n"
          ]
        }
      ]
    },
    {
      "cell_type": "markdown",
      "metadata": {
        "id": "K2AxZ0lu_XSS"
      },
      "source": [
        "## extend()"
      ]
    },
    {
      "cell_type": "code",
      "metadata": {
        "colab": {
          "base_uri": "https://localhost:8080/"
        },
        "id": "zykI-wei_Y5l",
        "outputId": "fe161fed-9aa3-4e4c-a062-3f1bc28dfe1d"
      },
      "source": [
        "a = [\"deep\", \"and\", \"high\", \"learning\"]\n",
        "b = ['artificial', 'intelligence']\n",
        "a.extend(b)\n",
        "print(a)"
      ],
      "execution_count": null,
      "outputs": [
        {
          "output_type": "stream",
          "name": "stdout",
          "text": [
            "['deep', 'and', 'high', 'learning', 'artificial', 'intelligence']\n"
          ]
        }
      ]
    },
    {
      "cell_type": "markdown",
      "metadata": {
        "id": "eS2K77U9_aZ7"
      },
      "source": [
        "## append와의 비교"
      ]
    },
    {
      "cell_type": "code",
      "metadata": {
        "colab": {
          "base_uri": "https://localhost:8080/"
        },
        "id": "_Rn26Fuq_cWN",
        "outputId": "6d186622-5031-4b77-b95a-d6a6a601efb7"
      },
      "source": [
        "a = [\"deep\", \"and\", \"high\", \"learning\"]\n",
        "b = ['artificial', 'intelligence']\n",
        "a.append(b)\n",
        "print(a)"
      ],
      "execution_count": null,
      "outputs": [
        {
          "output_type": "stream",
          "name": "stdout",
          "text": [
            "['deep', 'and', 'high', 'learning', ['artificial', 'intelligence']]\n"
          ]
        }
      ]
    },
    {
      "cell_type": "markdown",
      "metadata": {
        "id": "IWaiLFIC_dwY"
      },
      "source": [
        "## 리스트 원소 수정"
      ]
    },
    {
      "cell_type": "code",
      "metadata": {
        "colab": {
          "base_uri": "https://localhost:8080/"
        },
        "id": "J9qPJurw_gWB",
        "outputId": "71c2a99b-692f-4eb6-e55f-2a9f35a72254"
      },
      "source": [
        "a = [\"deep\", \"and\", \"high\", \"learning\"]\n",
        "b = ['artificial', 'intelligence']\n",
        "a.append(b)\n",
        "print(a)"
      ],
      "execution_count": null,
      "outputs": [
        {
          "output_type": "stream",
          "name": "stdout",
          "text": [
            "['deep', 'and', 'high', 'learning', ['artificial', 'intelligence']]\n"
          ]
        }
      ]
    },
    {
      "cell_type": "markdown",
      "metadata": {
        "id": "wc6PSKDZ_hYg"
      },
      "source": [
        "## 얕은 복사"
      ]
    },
    {
      "cell_type": "code",
      "metadata": {
        "colab": {
          "base_uri": "https://localhost:8080/"
        },
        "id": "85Xu9OLt_jll",
        "outputId": "a71d3189-d0db-4c57-f20c-bac847a6afbc"
      },
      "source": [
        "a = [1, 2, 3]\n",
        "b = a\n",
        "print(a, b)\n",
        "a[2] = 4\n",
        "print(a, b)"
      ],
      "execution_count": null,
      "outputs": [
        {
          "output_type": "stream",
          "name": "stdout",
          "text": [
            "[1, 2, 3] [1, 2, 3]\n",
            "[1, 2, 4] [1, 2, 4]\n"
          ]
        }
      ]
    },
    {
      "cell_type": "markdown",
      "metadata": {
        "id": "oSq96Hq4_lQa"
      },
      "source": [
        "## 깊은 복사"
      ]
    },
    {
      "cell_type": "code",
      "metadata": {
        "colab": {
          "base_uri": "https://localhost:8080/"
        },
        "id": "tMRb8fXP_nNf",
        "outputId": "8734019d-9203-4ed1-fcc1-dfc8515018dd"
      },
      "source": [
        "a = [1, 2, 3]\n",
        "c = a.copy()\n",
        "print(a, c)\n",
        "a[2] = 5\n",
        "print(a, c)"
      ],
      "execution_count": null,
      "outputs": [
        {
          "output_type": "stream",
          "name": "stdout",
          "text": [
            "[1, 2, 3] [1, 2, 3]\n",
            "[1, 2, 5] [1, 2, 3]\n"
          ]
        }
      ]
    },
    {
      "cell_type": "markdown",
      "source": [
        "## Tuple 선언"
      ],
      "metadata": {
        "id": "G0S4sZHDRRo-"
      }
    },
    {
      "cell_type": "code",
      "source": [
        "a = 1, 2, 3, 4\n",
        "b = \"deep\", \"and\", \"high\", \"learning\"\n",
        "c = (1, \"fast\", True)\n",
        "print(type(a), type(b), type(c))\n",
        "print(a, b, c)"
      ],
      "metadata": {
        "colab": {
          "base_uri": "https://localhost:8080/"
        },
        "id": "9gq3cxbGRSvc",
        "outputId": "20dadc96-3551-4875-b255-7a3b04b2dec3"
      },
      "execution_count": null,
      "outputs": [
        {
          "output_type": "stream",
          "name": "stdout",
          "text": [
            "<class 'tuple'> <class 'tuple'> <class 'tuple'>\n",
            "(1, 2, 3, 4) ('deep', 'and', 'high', 'learning') (1, 'fast', True)\n"
          ]
        }
      ]
    },
    {
      "cell_type": "markdown",
      "source": [
        "## Tuple 인덱싱과 슬라이싱"
      ],
      "metadata": {
        "id": "hSozIKwURUdk"
      }
    },
    {
      "cell_type": "code",
      "source": [
        "a = 1, 2, 3, 4\n",
        "print(a[2], a[1:3])"
      ],
      "metadata": {
        "colab": {
          "base_uri": "https://localhost:8080/"
        },
        "id": "GOMCTg4ARXu9",
        "outputId": "e759f4c3-a70f-4cb5-ce9a-df067f8e81e3"
      },
      "execution_count": null,
      "outputs": [
        {
          "output_type": "stream",
          "name": "stdout",
          "text": [
            "3 (2, 3)\n"
          ]
        }
      ]
    },
    {
      "cell_type": "markdown",
      "source": [
        "## 데이터 수정 불가"
      ],
      "metadata": {
        "id": "fwghd6OfRZ3E"
      }
    },
    {
      "cell_type": "code",
      "source": [
        "a = 1, 2, 3, 4\n",
        "a[1] = 3"
      ],
      "metadata": {
        "colab": {
          "base_uri": "https://localhost:8080/",
          "height": 192
        },
        "id": "G5jDe1x1RbTL",
        "outputId": "c29b1097-e5ce-415f-c3a9-9bf4c4ac2aa4"
      },
      "execution_count": null,
      "outputs": [
        {
          "output_type": "error",
          "ename": "TypeError",
          "evalue": "ignored",
          "traceback": [
            "\u001b[0;31m---------------------------------------------------------------------------\u001b[0m",
            "\u001b[0;31mTypeError\u001b[0m                                 Traceback (most recent call last)",
            "\u001b[0;32m<ipython-input-20-d1862c15e064>\u001b[0m in \u001b[0;36m<module>\u001b[0;34m()\u001b[0m\n\u001b[1;32m      1\u001b[0m \u001b[0ma\u001b[0m \u001b[0;34m=\u001b[0m \u001b[0;36m1\u001b[0m\u001b[0;34m,\u001b[0m \u001b[0;36m2\u001b[0m\u001b[0;34m,\u001b[0m \u001b[0;36m3\u001b[0m\u001b[0;34m,\u001b[0m \u001b[0;36m4\u001b[0m\u001b[0;34m\u001b[0m\u001b[0;34m\u001b[0m\u001b[0m\n\u001b[0;32m----> 2\u001b[0;31m \u001b[0ma\u001b[0m\u001b[0;34m[\u001b[0m\u001b[0;36m1\u001b[0m\u001b[0;34m]\u001b[0m \u001b[0;34m=\u001b[0m \u001b[0;36m3\u001b[0m\u001b[0;34m\u001b[0m\u001b[0;34m\u001b[0m\u001b[0m\n\u001b[0m",
            "\u001b[0;31mTypeError\u001b[0m: 'tuple' object does not support item assignment"
          ]
        }
      ]
    },
    {
      "cell_type": "markdown",
      "source": [
        "## 리스트와 메모리 크기 비교"
      ],
      "metadata": {
        "id": "-8DiYalsRdsc"
      }
    },
    {
      "cell_type": "code",
      "source": [
        "import sys\n",
        "# getsizeof의 단위 : byte\n",
        "ls = [1, 2, 3, 4, 5]\n",
        "print(type(ls), sys.getsizeof(ls), \"byte\")\n",
        "t = tuple(ls)\n",
        "print(type(t), sys.getsizeof(t), \"byte\")"
      ],
      "metadata": {
        "colab": {
          "base_uri": "https://localhost:8080/"
        },
        "id": "K9giF9AbRgu4",
        "outputId": "7dc8a7d7-236d-4c05-86d3-09c9ec98e570"
      },
      "execution_count": null,
      "outputs": [
        {
          "output_type": "stream",
          "name": "stdout",
          "text": [
            "<class 'list'> 112 byte\n",
            "<class 'tuple'> 96 byte\n"
          ]
        }
      ]
    }
  ]
}