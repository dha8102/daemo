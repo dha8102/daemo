{
  "nbformat": 4,
  "nbformat_minor": 0,
  "metadata": {
    "colab": {
      "provenance": []
    },
    "kernelspec": {
      "name": "python3",
      "display_name": "Python 3"
    },
    "language_info": {
      "name": "python"
    }
  },
  "cells": [
    {
      "cell_type": "markdown",
      "metadata": {
        "id": "WkPlHrOcT8nh"
      },
      "source": [
        "## if/else 선언"
      ]
    },
    {
      "cell_type": "code",
      "metadata": {
        "colab": {
          "base_uri": "https://localhost:8080/"
        },
        "outputId": "4ccf11c0-6f37-4c2d-f5e5-6cbc8d60812b",
        "id": "55VvUkcDT8ni"
      },
      "source": [
        "height = 180\n",
        "if height > 175:\n",
        "\tprint(\"175cm 이상입니다. 탑승하세요\")\n",
        "else:\n",
        "\tprint(\"고객님은 탑승할 수 없습니다.\")"
      ],
      "execution_count": null,
      "outputs": [
        {
          "output_type": "stream",
          "name": "stdout",
          "text": [
            "175cm 이상입니다. 탑승하세요\n"
          ]
        }
      ]
    },
    {
      "cell_type": "markdown",
      "metadata": {
        "id": "FJOPXzmmT8nj"
      },
      "source": [
        "## elif 추가"
      ]
    },
    {
      "cell_type": "code",
      "metadata": {
        "colab": {
          "base_uri": "https://localhost:8080/"
        },
        "outputId": "62aa4645-8813-43f6-eee0-77e62f1e5c5d",
        "id": "g1PQhVHJT8nk"
      },
      "source": [
        "height = 170\n",
        "if height > 175:\n",
        "\tprint(\"175cm 이상입니다. 탑승하세요\")\n",
        "elif height > 165:\n",
        "  print(\"부모님과 탑승하세요.\")\n",
        "else:\n",
        "\tprint(\"고객님은 탑승할 수 없습니다.\")"
      ],
      "execution_count": null,
      "outputs": [
        {
          "output_type": "stream",
          "name": "stdout",
          "text": [
            "부모님과 탑승하세요.\n"
          ]
        }
      ]
    },
    {
      "cell_type": "markdown",
      "metadata": {
        "id": "UONs0AZNT8nl"
      },
      "source": [
        "## if문 중첩"
      ]
    },
    {
      "cell_type": "code",
      "metadata": {
        "colab": {
          "base_uri": "https://localhost:8080/"
        },
        "outputId": "067d6b20-6398-454c-891a-4d16ce611d2e",
        "id": "m9p1dqdpT8nm"
      },
      "source": [
        "height = 170\n",
        "with_parent = True\n",
        "if height > 175:\n",
        "\tprint(\"175cm 이상입니다. 탑승하세요\")\n",
        "elif height > 165:\n",
        "  if with_parent:\n",
        "    print(\"부모님과 탑승하세요.\")\n",
        "  else:\n",
        "    print(\"부모님을 모셔오세요.\")\n",
        "else:\n",
        "\tprint(\"고객님은 탑승할 수 없습니다.\")"
      ],
      "execution_count": null,
      "outputs": [
        {
          "output_type": "stream",
          "name": "stdout",
          "text": [
            "부모님과 탑승하세요.\n"
          ]
        }
      ]
    },
    {
      "cell_type": "markdown",
      "metadata": {
        "id": "RMRCLq3PT8nn"
      },
      "source": [
        "## 한 줄 조건문"
      ]
    },
    {
      "cell_type": "code",
      "metadata": {
        "colab": {
          "base_uri": "https://localhost:8080/"
        },
        "outputId": "8b29d1d6-09a6-45e3-a7a7-95fd0c07aff8",
        "id": "rCeaRwliT8nn"
      },
      "source": [
        "height = 180\n",
        "print(\"175cm 이상입니다. 탑승하세요.\") if height > 175 else print(\"탑승할 수 없습니다.\")"
      ],
      "execution_count": null,
      "outputs": [
        {
          "output_type": "stream",
          "name": "stdout",
          "text": [
            "175cm 이상입니다. 탑승하세요.\n"
          ]
        }
      ]
    },
    {
      "cell_type": "markdown",
      "metadata": {
        "id": "bCPSeNVNT8no"
      },
      "source": [
        "## while 반복문"
      ]
    },
    {
      "cell_type": "code",
      "metadata": {
        "colab": {
          "base_uri": "https://localhost:8080/"
        },
        "outputId": "f2fac1f7-a29d-4f4b-e25b-22d8232fca23",
        "id": "OQe9fu0tT8np"
      },
      "source": [
        "a = 3\n",
        "b = []\n",
        "while a:\n",
        "  a -= 1\n",
        "  b.append(a)\n",
        "  print(a)\n",
        "print(b)"
      ],
      "execution_count": null,
      "outputs": [
        {
          "output_type": "stream",
          "name": "stdout",
          "text": [
            "2\n",
            "1\n",
            "0\n",
            "[2, 1, 0]\n"
          ]
        }
      ]
    },
    {
      "cell_type": "markdown",
      "metadata": {
        "id": "kvQ93BiOT8np"
      },
      "source": [
        "## continue 제어"
      ]
    },
    {
      "cell_type": "code",
      "metadata": {
        "colab": {
          "base_uri": "https://localhost:8080/"
        },
        "outputId": "dbf50d33-a82a-4b80-f312-ecdbecfd03a3",
        "id": "0XF0TZMCT8nq"
      },
      "source": [
        "a = 3\n",
        "b = []\n",
        "while a:\n",
        "\ta -= 1\n",
        "\tif a == 2:\n",
        "\t\tcontinue\n",
        "\tb.append(a)\n",
        "\tprint(a)\n",
        "print(b)"
      ],
      "execution_count": null,
      "outputs": [
        {
          "output_type": "stream",
          "name": "stdout",
          "text": [
            "1\n",
            "0\n",
            "[1, 0]\n"
          ]
        }
      ]
    },
    {
      "cell_type": "markdown",
      "metadata": {
        "id": "vWTK-zFDT8nr"
      },
      "source": [
        "## break 제어"
      ]
    },
    {
      "cell_type": "code",
      "metadata": {
        "colab": {
          "base_uri": "https://localhost:8080/"
        },
        "outputId": "31187909-c5fe-4f8a-c6a8-ce3001a7b4a0",
        "id": "B-zuRid2T8ns"
      },
      "source": [
        "a = 5\n",
        "b = []\n",
        "while a:\n",
        "\ta -= 1\n",
        "\tif a == 1:\n",
        "\t\tbreak\n",
        "\tb.append(a)\n",
        "\tprint(a)\n",
        "print(b)"
      ],
      "execution_count": null,
      "outputs": [
        {
          "output_type": "stream",
          "name": "stdout",
          "text": [
            "4\n",
            "3\n",
            "2\n",
            "[4, 3, 2]\n"
          ]
        }
      ]
    },
    {
      "cell_type": "markdown",
      "metadata": {
        "id": "D5zQmosRT8nt"
      },
      "source": [
        "## 반복문 활용"
      ]
    },
    {
      "cell_type": "code",
      "metadata": {
        "colab": {
          "base_uri": "https://localhost:8080/"
        },
        "outputId": "d3c511b0-3719-48dc-d8cd-49adcd08d935",
        "id": "baA7yt5eT8nu"
      },
      "source": [
        "a = 10\n",
        "b = []\n",
        "while a:\n",
        "\tif a == 2:\n",
        "\t\tbreak\n",
        "\telif a % 2 == 1:\n",
        "\t\ta -= 1\n",
        "\t\tcontinue\n",
        "\telse:\n",
        "\t\tb.append(a)\n",
        "\t\ta -= 1\n",
        "\t\tprint(a)\n",
        "print(b)"
      ],
      "execution_count": null,
      "outputs": [
        {
          "output_type": "stream",
          "name": "stdout",
          "text": [
            "9\n",
            "7\n",
            "5\n",
            "3\n",
            "[10, 8, 6, 4]\n"
          ]
        }
      ]
    },
    {
      "cell_type": "markdown",
      "metadata": {
        "id": "jzV3NFZMT8nv"
      },
      "source": [
        "## 리스트 순회"
      ]
    },
    {
      "cell_type": "code",
      "metadata": {
        "colab": {
          "base_uri": "https://localhost:8080/"
        },
        "outputId": "af5ff1a0-7ed4-42c2-b7da-4dc42c02ab7a",
        "id": "eYWgM2L1T8nv"
      },
      "source": [
        "a = [1, 2, 3, 4, 5, 6, 7, 8]\n",
        "for number in a:\n",
        "\t\tprint(number)"
      ],
      "execution_count": null,
      "outputs": [
        {
          "output_type": "stream",
          "name": "stdout",
          "text": [
            "1\n",
            "2\n",
            "3\n",
            "4\n",
            "5\n",
            "6\n",
            "7\n",
            "8\n"
          ]
        }
      ]
    },
    {
      "cell_type": "markdown",
      "metadata": {
        "id": "PNeZsYCZT8nw"
      },
      "source": [
        "## 딕셔너리 순회"
      ]
    },
    {
      "cell_type": "code",
      "metadata": {
        "colab": {
          "base_uri": "https://localhost:8080/"
        },
        "outputId": "05918b48-ef1f-4a92-a6b0-bb801718255b",
        "id": "KCvSb88NT8nx"
      },
      "source": [
        "dic = {\"수학\": 100, \"영어\": 90}\n",
        "for key, val in dic.items():\n",
        "\t\tif val == 100:\n",
        "\t\t\tprint(key, val, \"굳굳\")\n",
        "\t\telse:\n",
        "\t\t\tprint(key, val, \"분발하세요!\")\n"
      ],
      "execution_count": null,
      "outputs": [
        {
          "output_type": "stream",
          "name": "stdout",
          "text": [
            "수학 100 굳굳\n",
            "영어 90 분발하세요!\n"
          ]
        }
      ]
    },
    {
      "cell_type": "markdown",
      "metadata": {
        "id": "ARrDtKODBMzT"
      },
      "source": [
        "## range 함수 활용 반복문"
      ]
    },
    {
      "cell_type": "code",
      "metadata": {
        "colab": {
          "base_uri": "https://localhost:8080/"
        },
        "id": "pzu-ej1BBPFk",
        "outputId": "97ee371d-190e-4af9-facb-36004d186c23"
      },
      "source": [
        "for val in range(1, 10, 1):\n",
        "\tif val % 2 == 0:\n",
        "\t\t\tprint(val, \"-> 짝수입니다.\")"
      ],
      "execution_count": null,
      "outputs": [
        {
          "output_type": "stream",
          "name": "stdout",
          "text": [
            "2 -> 짝수입니다.\n",
            "4 -> 짝수입니다.\n",
            "6 -> 짝수입니다.\n",
            "8 -> 짝수입니다.\n"
          ]
        }
      ]
    },
    {
      "cell_type": "markdown",
      "metadata": {
        "id": "f5429mM2BRSN"
      },
      "source": [
        "## enumerate 활용 반복문"
      ]
    },
    {
      "cell_type": "code",
      "metadata": {
        "colab": {
          "base_uri": "https://localhost:8080/"
        },
        "id": "54LJOfRpBS-G",
        "outputId": "b0d048e5-349f-4dae-9dc5-e1976af97557"
      },
      "source": [
        "subjects = [\"수학\", \"영어\", \"국어\"]\n",
        "for index, val in enumerate(subjects):\n",
        "\tprint(index, val)"
      ],
      "execution_count": null,
      "outputs": [
        {
          "output_type": "stream",
          "name": "stdout",
          "text": [
            "0 수학\n",
            "1 영어\n",
            "2 국어\n"
          ]
        }
      ]
    },
    {
      "cell_type": "markdown",
      "metadata": {
        "id": "a_NTfhpUBUr-"
      },
      "source": [
        "## zip 활용 반복문"
      ]
    },
    {
      "cell_type": "code",
      "metadata": {
        "colab": {
          "base_uri": "https://localhost:8080/"
        },
        "id": "mOh6s6NvBWx1",
        "outputId": "a15c84f2-77d0-44d7-d55a-845e4d291c4b"
      },
      "source": [
        "subjects = [\"수학\", \"영어\", \"국어\", \"탐구\"]\n",
        "scores = [100, 90, 80]\n",
        "for subj, scr in zip(subjects, scores):\n",
        "\tprint(subj, scr)"
      ],
      "execution_count": null,
      "outputs": [
        {
          "output_type": "stream",
          "name": "stdout",
          "text": [
            "수학 100\n",
            "영어 90\n",
            "국어 80\n"
          ]
        }
      ]
    },
    {
      "cell_type": "markdown",
      "metadata": {
        "id": "4rE2pmIgBZlr"
      },
      "source": [
        "## zip 활용 딕셔너리화"
      ]
    },
    {
      "cell_type": "code",
      "metadata": {
        "colab": {
          "base_uri": "https://localhost:8080/"
        },
        "id": "-9KzA5mRBbgl",
        "outputId": "d96fd07a-1bf7-446a-f3c6-50635f79e69a"
      },
      "source": [
        "subjects = [\"수학\", \"영어\", \"국어\", \"탐구\"]\n",
        "scores = [100, 90, 80]\n",
        "to_dict = dict(zip(subjects, scores))\n",
        "print(to_dict)"
      ],
      "execution_count": null,
      "outputs": [
        {
          "output_type": "stream",
          "name": "stdout",
          "text": [
            "{'수학': 100, '영어': 90, '국어': 80}\n"
          ]
        }
      ]
    },
    {
      "cell_type": "markdown",
      "metadata": {
        "id": "K-vRWDjzBdXT"
      },
      "source": [
        "## 리스트 내포"
      ]
    },
    {
      "cell_type": "code",
      "metadata": {
        "colab": {
          "base_uri": "https://localhost:8080/"
        },
        "id": "AMC-OlgUBgRU",
        "outputId": "ed75c5ea-5940-4f23-b856-7abaa187efd8"
      },
      "source": [
        "ls = [num*10 for num in range(1, 8)]\n",
        "print(ls)"
      ],
      "execution_count": null,
      "outputs": [
        {
          "output_type": "stream",
          "name": "stdout",
          "text": [
            "[10, 20, 30, 40, 50, 60, 70]\n"
          ]
        }
      ]
    },
    {
      "cell_type": "markdown",
      "metadata": {
        "id": "NAxb5iugBh1s"
      },
      "source": [
        "## 리스트 내포 조건문"
      ]
    },
    {
      "cell_type": "code",
      "metadata": {
        "colab": {
          "base_uri": "https://localhost:8080/"
        },
        "id": "k4CcDkXxBjlT",
        "outputId": "095df289-7c78-461e-d0c9-3b0395e15ac2"
      },
      "source": [
        "ls = [num*10 for num in range(1, 6) if num % 2 == 0]\n",
        "print(ls)"
      ],
      "execution_count": null,
      "outputs": [
        {
          "output_type": "stream",
          "name": "stdout",
          "text": [
            "[20, 40]\n"
          ]
        }
      ]
    }
  ]
}