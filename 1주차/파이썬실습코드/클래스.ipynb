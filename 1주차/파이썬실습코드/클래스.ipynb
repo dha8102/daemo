{
  "nbformat": 4,
  "nbformat_minor": 0,
  "metadata": {
    "colab": {
      "provenance": []
    },
    "kernelspec": {
      "name": "python3",
      "display_name": "Python 3"
    },
    "language_info": {
      "name": "python"
    }
  },
  "cells": [
    {
      "cell_type": "markdown",
      "metadata": {
        "id": "4rE2pmIgBZlr"
      },
      "source": [
        "## class 정의"
      ]
    },
    {
      "cell_type": "code",
      "metadata": {
        "colab": {
          "base_uri": "https://localhost:8080/"
        },
        "id": "-9KzA5mRBbgl",
        "outputId": "38176de8-cd9f-4348-b0da-c1ed5c55aa33"
      },
      "source": [
        "class Flight:\n",
        "    pass\n",
        "f = Flight()\n",
        "print(type(f))"
      ],
      "execution_count": null,
      "outputs": [
        {
          "output_type": "stream",
          "name": "stdout",
          "text": [
            "<class '__main__.Flight'>\n"
          ]
        }
      ]
    },
    {
      "cell_type": "markdown",
      "metadata": {
        "id": "K-vRWDjzBdXT"
      },
      "source": [
        "## class 내부 함수 정의"
      ]
    },
    {
      "cell_type": "code",
      "metadata": {
        "colab": {
          "base_uri": "https://localhost:8080/"
        },
        "id": "AMC-OlgUBgRU",
        "outputId": "4d639c94-3663-4a57-d3e6-0e5539b6e82d"
      },
      "source": [
        "class Flight:\n",
        "    def number(self):\n",
        "        return 'KE081'\n",
        "f = Flight()\n",
        "print(f.number())"
      ],
      "execution_count": null,
      "outputs": [
        {
          "output_type": "stream",
          "name": "stdout",
          "text": [
            "KE081\n"
          ]
        }
      ]
    },
    {
      "cell_type": "markdown",
      "metadata": {
        "id": "NAxb5iugBh1s"
      },
      "source": [
        "## 리스트 내포 조건문"
      ]
    },
    {
      "cell_type": "code",
      "metadata": {
        "colab": {
          "base_uri": "https://localhost:8080/"
        },
        "id": "k4CcDkXxBjlT",
        "outputId": "095df289-7c78-461e-d0c9-3b0395e15ac2"
      },
      "source": [
        "ls = [num*10 for num in range(1, 6) if num % 2 == 0]\n",
        "print(ls)"
      ],
      "execution_count": null,
      "outputs": [
        {
          "output_type": "stream",
          "name": "stdout",
          "text": [
            "[20, 40]\n"
          ]
        }
      ]
    },
    {
      "cell_type": "markdown",
      "metadata": {
        "id": "iBhpm7n80kuG"
      },
      "source": [
        "## 생성자 활용"
      ]
    },
    {
      "cell_type": "code",
      "metadata": {
        "colab": {
          "base_uri": "https://localhost:8080/"
        },
        "outputId": "dddaf752-c946-4dcb-cc1c-ec6db956a6b2",
        "id": "ZBEL0sf30kuH"
      },
      "source": [
        "class Flight:\n",
        "    def __init__(self, number):\n",
        "        self._number = number\n",
        "    def number(self):\n",
        "        return self._number\n",
        "f = Flight('KE082')\n",
        "print(f.number())\n",
        "print(f._number)"
      ],
      "execution_count": null,
      "outputs": [
        {
          "output_type": "stream",
          "name": "stdout",
          "text": [
            "KE082\n",
            "KE082\n"
          ]
        }
      ]
    },
    {
      "cell_type": "markdown",
      "metadata": {
        "id": "KCGSlYKXVPA_"
      },
      "source": [
        "## 생성자 활용 예외처리"
      ]
    },
    {
      "cell_type": "code",
      "metadata": {
        "colab": {
          "base_uri": "https://localhost:8080/",
          "height": 334
        },
        "outputId": "6e825ba6-75a3-4711-aac3-65d6e5dc679c",
        "id": "PCIZ2b9U0kuH"
      },
      "source": [
        "class Flight:\n",
        "  def __init__(self, number):\n",
        "    if not number[:2].isalpha():\n",
        "        raise ValueError(\"첫 두글자가 알파벳이 아닙니다.\")\n",
        "    if not number[:2].isupper():\n",
        "        raise ValueError(\"첫 두글자가 대문자가 아닙니다.\")\n",
        "    if not number[2:].isdigit():\n",
        "        raise ValueError(\"세번째 글자 이상이 양의 숫자가 아닙니다.\")\n",
        "    self._number = number\n",
        "f = Flight('Ke082') # KEE82, 0KE082"
      ],
      "execution_count": null,
      "outputs": [
        {
          "output_type": "error",
          "ename": "ValueError",
          "evalue": "ignored",
          "traceback": [
            "\u001b[0;31m---------------------------------------------------------------------------\u001b[0m",
            "\u001b[0;31mValueError\u001b[0m                                Traceback (most recent call last)",
            "\u001b[0;32m<ipython-input-26-f6bfbe83c147>\u001b[0m in \u001b[0;36m<module>\u001b[0;34m()\u001b[0m\n\u001b[1;32m      8\u001b[0m         \u001b[0;32mraise\u001b[0m \u001b[0mValueError\u001b[0m\u001b[0;34m(\u001b[0m\u001b[0;34m\"세번째 글자 이상이 양의 숫자가 아닙니다.\"\u001b[0m\u001b[0;34m)\u001b[0m\u001b[0;34m\u001b[0m\u001b[0;34m\u001b[0m\u001b[0m\n\u001b[1;32m      9\u001b[0m     \u001b[0mself\u001b[0m\u001b[0;34m.\u001b[0m\u001b[0m_number\u001b[0m \u001b[0;34m=\u001b[0m \u001b[0mnumber\u001b[0m\u001b[0;34m\u001b[0m\u001b[0;34m\u001b[0m\u001b[0m\n\u001b[0;32m---> 10\u001b[0;31m \u001b[0mf\u001b[0m \u001b[0;34m=\u001b[0m \u001b[0mFlight\u001b[0m\u001b[0;34m(\u001b[0m\u001b[0;34m'Ke082'\u001b[0m\u001b[0;34m)\u001b[0m \u001b[0;31m# KEE82, 0KE082\u001b[0m\u001b[0;34m\u001b[0m\u001b[0;34m\u001b[0m\u001b[0m\n\u001b[0m",
            "\u001b[0;32m<ipython-input-26-f6bfbe83c147>\u001b[0m in \u001b[0;36m__init__\u001b[0;34m(self, number)\u001b[0m\n\u001b[1;32m      4\u001b[0m         \u001b[0;32mraise\u001b[0m \u001b[0mValueError\u001b[0m\u001b[0;34m(\u001b[0m\u001b[0;34m\"첫 두글자가 알파벳이 아닙니다.\"\u001b[0m\u001b[0;34m)\u001b[0m\u001b[0;34m\u001b[0m\u001b[0;34m\u001b[0m\u001b[0m\n\u001b[1;32m      5\u001b[0m     \u001b[0;32mif\u001b[0m \u001b[0;32mnot\u001b[0m \u001b[0mnumber\u001b[0m\u001b[0;34m[\u001b[0m\u001b[0;34m:\u001b[0m\u001b[0;36m2\u001b[0m\u001b[0;34m]\u001b[0m\u001b[0;34m.\u001b[0m\u001b[0misupper\u001b[0m\u001b[0;34m(\u001b[0m\u001b[0;34m)\u001b[0m\u001b[0;34m:\u001b[0m\u001b[0;34m\u001b[0m\u001b[0;34m\u001b[0m\u001b[0m\n\u001b[0;32m----> 6\u001b[0;31m         \u001b[0;32mraise\u001b[0m \u001b[0mValueError\u001b[0m\u001b[0;34m(\u001b[0m\u001b[0;34m\"첫 두글자가 대문자가 아닙니다.\"\u001b[0m\u001b[0;34m)\u001b[0m\u001b[0;34m\u001b[0m\u001b[0;34m\u001b[0m\u001b[0m\n\u001b[0m\u001b[1;32m      7\u001b[0m     \u001b[0;32mif\u001b[0m \u001b[0;32mnot\u001b[0m \u001b[0mnumber\u001b[0m\u001b[0;34m[\u001b[0m\u001b[0;36m2\u001b[0m\u001b[0;34m:\u001b[0m\u001b[0;34m]\u001b[0m\u001b[0;34m.\u001b[0m\u001b[0misdigit\u001b[0m\u001b[0;34m(\u001b[0m\u001b[0;34m)\u001b[0m\u001b[0;34m:\u001b[0m\u001b[0;34m\u001b[0m\u001b[0;34m\u001b[0m\u001b[0m\n\u001b[1;32m      8\u001b[0m         \u001b[0;32mraise\u001b[0m \u001b[0mValueError\u001b[0m\u001b[0;34m(\u001b[0m\u001b[0;34m\"세번째 글자 이상이 양의 숫자가 아닙니다.\"\u001b[0m\u001b[0;34m)\u001b[0m\u001b[0;34m\u001b[0m\u001b[0;34m\u001b[0m\u001b[0m\n",
            "\u001b[0;31mValueError\u001b[0m: 첫 두글자가 대문자가 아닙니다."
          ]
        }
      ]
    },
    {
      "cell_type": "markdown",
      "metadata": {
        "id": "cD_8aAJ80kuH"
      },
      "source": [
        "## 더블 언더바"
      ]
    },
    {
      "cell_type": "code",
      "metadata": {
        "colab": {
          "base_uri": "https://localhost:8080/",
          "height": 244
        },
        "outputId": "4d13a7ef-27e2-4fac-d9b6-d6154f325daa",
        "id": "RHCfPztF0kuH"
      },
      "source": [
        "class Flight:\n",
        "    def __init__(self, number):\n",
        "        self._number = number\n",
        "        self.__number = number\n",
        "\n",
        "    def number(self):\n",
        "        return self.__number\n",
        "f = Flight('KE082')\n",
        "print(f.number())\n",
        "print(f._number)\n",
        "print(f.__number)"
      ],
      "execution_count": null,
      "outputs": [
        {
          "output_type": "stream",
          "name": "stdout",
          "text": [
            "KE082\n",
            "KE082\n"
          ]
        },
        {
          "output_type": "error",
          "ename": "AttributeError",
          "evalue": "ignored",
          "traceback": [
            "\u001b[0;31m---------------------------------------------------------------------------\u001b[0m",
            "\u001b[0;31mAttributeError\u001b[0m                            Traceback (most recent call last)",
            "\u001b[0;32m<ipython-input-27-81de80684382>\u001b[0m in \u001b[0;36m<module>\u001b[0;34m()\u001b[0m\n\u001b[1;32m      9\u001b[0m \u001b[0mprint\u001b[0m\u001b[0;34m(\u001b[0m\u001b[0mf\u001b[0m\u001b[0;34m.\u001b[0m\u001b[0mnumber\u001b[0m\u001b[0;34m(\u001b[0m\u001b[0;34m)\u001b[0m\u001b[0;34m)\u001b[0m\u001b[0;34m\u001b[0m\u001b[0;34m\u001b[0m\u001b[0m\n\u001b[1;32m     10\u001b[0m \u001b[0mprint\u001b[0m\u001b[0;34m(\u001b[0m\u001b[0mf\u001b[0m\u001b[0;34m.\u001b[0m\u001b[0m_number\u001b[0m\u001b[0;34m)\u001b[0m\u001b[0;34m\u001b[0m\u001b[0;34m\u001b[0m\u001b[0m\n\u001b[0;32m---> 11\u001b[0;31m \u001b[0mprint\u001b[0m\u001b[0;34m(\u001b[0m\u001b[0mf\u001b[0m\u001b[0;34m.\u001b[0m\u001b[0m__number\u001b[0m\u001b[0;34m)\u001b[0m\u001b[0;34m\u001b[0m\u001b[0;34m\u001b[0m\u001b[0m\n\u001b[0m",
            "\u001b[0;31mAttributeError\u001b[0m: 'Flight' object has no attribute '__number'"
          ]
        }
      ]
    },
    {
      "cell_type": "markdown",
      "metadata": {
        "id": "q0twPBH-0kuH"
      },
      "source": [
        "## 인스턴스 속성 변경"
      ]
    },
    {
      "cell_type": "code",
      "metadata": {
        "colab": {
          "base_uri": "https://localhost:8080/"
        },
        "outputId": "9f3d42f0-a122-42c1-f823-cd64e9fcab94",
        "id": "4jdM9mdw0kuH"
      },
      "source": [
        "class Flight:\n",
        "    def __init__(self, number, passenger_num):\n",
        "        self.__number = number\n",
        "        self._passenger_num = passenger_num\n",
        "\n",
        "    def number(self):\n",
        "        return self.__number\n",
        "\n",
        "    def add_passenger(self, num):\n",
        "        self._passenger_num += num # 속성 변경\n",
        "f1 = Flight('KE082', 0)\n",
        "f2 = Flight('KE081', 0)\n",
        "f1.add_passenger(2)\n",
        "f2.add_passenger(3)\n",
        "print(f1._passenger_num)\n",
        "print(f2._passenger_num)"
      ],
      "execution_count": null,
      "outputs": [
        {
          "output_type": "stream",
          "name": "stdout",
          "text": [
            "2\n",
            "3\n"
          ]
        }
      ]
    },
    {
      "cell_type": "markdown",
      "metadata": {
        "id": "ikBWmH7a0kuH"
      },
      "source": [
        "## 클래스 상속"
      ]
    },
    {
      "cell_type": "code",
      "metadata": {
        "colab": {
          "base_uri": "https://localhost:8080/"
        },
        "outputId": "64432939-0efd-4b09-bbb8-defbbd73e76f",
        "id": "agvBkyh20kuH"
      },
      "source": [
        "class Flight:\n",
        "    def __init__(self, number, passenger_num):\n",
        "        self.__number = number\n",
        "        self._passenger_num = passenger_num\n",
        "    def number(self):\n",
        "        return self.__number\n",
        "    def add_passenger(self, num):\n",
        "        self._passenger_num += num\n",
        "class AdvancedFlight(Flight):          # Flight 상속\n",
        "    def subtract_passenger(self, num):\n",
        "        self._passenger_num -= num\n",
        "\n",
        "f2 = AdvancedFlight('KE081', 0)\n",
        "f2.add_passenger(3)\n",
        "f2.subtract_passenger(1)\n",
        "print(f2._passenger_num)"
      ],
      "execution_count": null,
      "outputs": [
        {
          "output_type": "stream",
          "name": "stdout",
          "text": [
            "2\n"
          ]
        }
      ]
    },
    {
      "cell_type": "markdown",
      "metadata": {
        "id": "Cxf5xlJAV3x7"
      },
      "source": [
        "## super"
      ]
    },
    {
      "cell_type": "code",
      "metadata": {
        "colab": {
          "base_uri": "https://localhost:8080/"
        },
        "outputId": "455d07e9-8f79-4626-89e1-62d27ab29e27",
        "id": "bwnX_Dei0kuI"
      },
      "source": [
        "class Flight:\n",
        "    def __init__(self, number, passenger_num):\n",
        "        self.__number = number\n",
        "        self._passenger_num = passenger_num\n",
        "    def number(self):\n",
        "        return self.__number\n",
        "    def add_passenger(self, num):\n",
        "        self._passenger_num += num\n",
        "class AdvancedFlight(Flight):\n",
        "    def __init__(self, number, passenger_num):\n",
        "        super().__init__('KE083',10)\n",
        "    def subtract_passenger(self, num):\n",
        "        self._passenger_num -= num\n",
        "\n",
        "f2 = AdvancedFlight('KE081', 0)\n",
        "f2.add_passenger(3)\n",
        "f2.subtract_passenger(1)\n",
        "print(f2._passenger_num)"
      ],
      "execution_count": null,
      "outputs": [
        {
          "output_type": "stream",
          "name": "stdout",
          "text": [
            "12\n"
          ]
        }
      ]
    }
  ]
}